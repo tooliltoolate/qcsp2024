{
  "nbformat": 4,
  "nbformat_minor": 0,
  "metadata": {
    "colab": {
      "provenance": [],
      "include_colab_link": true
    },
    "kernelspec": {
      "name": "python3",
      "display_name": "Python 3"
    },
    "language_info": {
      "name": "python"
    }
  },
  "cells": [
    {
      "cell_type": "markdown",
      "metadata": {
        "id": "view-in-github",
        "colab_type": "text"
      },
      "source": [
        "<a href=\"https://colab.research.google.com/github/tooliltoolate/qcsp2024/blob/main/Qiskit_Aer_%2B_Cirq_Demo_Notebook.ipynb\" target=\"_parent\"><img src=\"https://colab.research.google.com/assets/colab-badge.svg\" alt=\"Open In Colab\"/></a>"
      ]
    },
    {
      "cell_type": "code",
      "execution_count": null,
      "metadata": {
        "id": "UV5G_4F6j2wL",
        "collapsed": true
      },
      "outputs": [],
      "source": [
        "#@markdown ---\n",
        "#@markdown Run this code to install libraries\n",
        "!pip install cirq --quiet\n",
        "!pip install qiskit --quiet\n",
        "!pip install qiskit-aer --quiet\n",
        "!pip install pylatexenc --quiet"
      ]
    },
    {
      "cell_type": "code",
      "source": [
        "# @markdown ---\n",
        "# @markdown  Import the necessary libraries and utilities\n",
        "from qiskit import QuantumCircuit, ClassicalRegister, QuantumRegister\n",
        "from qiskit import transpile\n",
        "from qiskit_aer import AerSimulator\n",
        "from qiskit.visualization import plot_histogram, plot_state_city, circuit_drawer\n",
        "\n",
        "import cirq\n",
        "import cirq_web.bloch_sphere as bloch_sphere\n",
        "\n",
        "import numpy as np\n",
        "from math import pi"
      ],
      "metadata": {
        "id": "V5CZRTAYLUUy"
      },
      "execution_count": null,
      "outputs": []
    },
    {
      "cell_type": "code",
      "source": [
        "def print_ket(a):\n",
        "  return cirq.dirac_notation(a)\n",
        "\n",
        "def print_bloch(b):\n",
        "  return bloch_sphere.BlochSphere(state_vector=b, sphere_radius=5)"
      ],
      "metadata": {
        "id": "9WCCB2JaBVo6"
      },
      "execution_count": null,
      "outputs": []
    },
    {
      "cell_type": "markdown",
      "source": [
        "-----\n",
        "## **Visualizing the Bloch Sphere**\n",
        "\n",
        "1. Define your state using a Python list as so:\n",
        "```\n",
        "variable_name = [x, y]\n",
        "# where x is the amplitude for |0>\n",
        "# and y is the amplitude for |1>\n",
        "```\n",
        "\n",
        "2. You can enter fraction values on x and y:\n",
        "```\n",
        "variable_name = [2/3, 1/3]\n",
        "```\n",
        "\n",
        "3. You can use the Numpy library for square rooted values as such:\n",
        "```\n",
        "variable_name = [1/np.sqrt(2), 1/np.sqrt(2)]\n",
        "```\n",
        "\n",
        "4. Use the `.j` to indicate an imaginary number.\n",
        "```\n",
        "variable_name = [2.j/3, (1-3.j)/4]\n",
        "```\n",
        "$$\n",
        "\\frac{2i}{3}, \\frac{1-3i}{4}\n",
        "$$\n",
        "\n",
        "5. Print your vector on the dirac/ket notation using the `print_ket()` function.\n",
        "```\n",
        "print_ket(variable_name)\n",
        "```\n",
        "\n",
        "6. Print visualize your quantum state onto an **interactive** bloch sphere using the function `print_bloch()`.\n",
        "```\n",
        "print_bloch(variable_name)\n",
        "```"
      ],
      "metadata": {
        "id": "XfweJQ6u7zdx"
      }
    },
    {
      "cell_type": "code",
      "source": [
        "vec = [0, 1]\n",
        "print_ket(vec)"
      ],
      "metadata": {
        "id": "nKCvIyXJ88Yg"
      },
      "execution_count": null,
      "outputs": []
    },
    {
      "cell_type": "code",
      "source": [
        "print_bloch(vec)"
      ],
      "metadata": {
        "id": "G8G9et4h-aox"
      },
      "execution_count": null,
      "outputs": []
    },
    {
      "cell_type": "code",
      "source": [
        "# @title The 6 points on the Main Axes of a Bloch Sphere\n",
        "# |0> state: Represents the north pole of the Bloch sphere\n",
        "state_zero = [1, 0]\n",
        "\n",
        "# |1> state: Represents the south pole of the Bloch sphere\n",
        "state_one = [0, 1]\n",
        "\n",
        "# |+> state: Superposition along the positive X-axis\n",
        "state_plus = [1/np.sqrt(2), 1/np.sqrt(2)]\n",
        "\n",
        "# |-> state: Superposition along the negative X-axis\n",
        "state_minus = [1/np.sqrt(2), -1/np.sqrt(2)]\n",
        "\n",
        "# |i> state: Superposition along the positive Y-axis\n",
        "state_i = [1/np.sqrt(2), 1.j/np.sqrt(2)]\n",
        "\n",
        "# |-i> state: Superposition along the negative Y-axis\n",
        "state_minus_i = [1/np.sqrt(2), -1.j/np.sqrt(2)]"
      ],
      "metadata": {
        "id": "TcCRmK7D02ty"
      },
      "execution_count": null,
      "outputs": []
    },
    {
      "cell_type": "code",
      "source": [
        "# print_bloch() # Visualize them here"
      ],
      "metadata": {
        "id": "nuOQ_stx3h9Q"
      },
      "execution_count": null,
      "outputs": []
    },
    {
      "cell_type": "markdown",
      "source": [
        "-----\n",
        "# **Qiskit**\n",
        "## **How to use Qiskit**\n",
        "\n",
        "1. **Naming convention:** we refer to the rightmost qubit as the first. We use zero indexing too. By virtue, we can assign the qubits as so:\n",
        "$$\n",
        "|...3210\\rangle\n",
        "$$\n",
        "\n",
        "2. Use the **`simulate()`** function to see what your circuit would output.\n",
        "---\n",
        "### **Basic Quantum Gates**\n",
        "\n",
        "**H: Hadamard gate**\n",
        "```\n",
        "qc.h(q)\n",
        "```\n",
        "\n",
        "**X: Bit-flip gate**\n",
        "```\n",
        "qc.x(q)\n",
        "```\n",
        "\n",
        "**CNOT: Controlled bit-flip gate**\n",
        "```\n",
        "qc.cx(q_control, q_target)\n",
        "```\n",
        "\n",
        "**CCNOT: Toffoli gate**\n",
        "```\n",
        "qc.ccx(q_control1, q_control2, q_target)\n",
        "```\n",
        "\n",
        "**Z: Phase-flip gate**\n",
        "```\n",
        "qc.z(q)\n",
        "```\n",
        "\n",
        "**CZ: Controlled phase-flip gate**\n",
        "```\n",
        "qc.cz(q_control, q_target)\n",
        "```\n",
        "\n",
        "**Y: Bit + Phase-flip gate**\n",
        "```\n",
        "qc.y(q)\n",
        "```\n",
        "\n",
        "**CY: Controlled Bit + Phase-flip gate**\n",
        "```\n",
        "qc.cz(q_control, q_target)\n",
        "```\n",
        "\n",
        "**RX, RY, RZ: Rotation Gates**\n",
        "```\n",
        "qc.rx(theta, q)\n",
        "qc.ry(theta, q)\n",
        "qc.rz(theta, q)\n",
        "```\n",
        "\n",
        "\n",
        "For more information on qiskit's circuits and gates, refer to [Qiskit's Documentation](https://docs.quantum.ibm.com/api/qiskit/circuit_library)."
      ],
      "metadata": {
        "id": "0REyuD1337_p"
      }
    },
    {
      "cell_type": "code",
      "source": [
        "# Function to simulate and run the Quantum Circuit via Qiskit Aer\n",
        "def simulate(qc, shots=1000):\n",
        "    simulator = AerSimulator(method='statevector')\n",
        "    circ = transpile(qc, simulator)\n",
        "\n",
        "    result = simulator.run(circ, shots=shots).result()\n",
        "    return circ, result"
      ],
      "metadata": {
        "id": "FG9fJWrcMlbf"
      },
      "execution_count": null,
      "outputs": []
    },
    {
      "cell_type": "code",
      "source": [
        "q_reg = QuantumRegister(2, name=\"q\")\n",
        "c_reg = ClassicalRegister(2, name=\"cl\")\n",
        "\n",
        "def create_circuit(q_reg, c_reg):\n",
        "    qc = QuantumCircuit(q_reg, c_reg)\n",
        "\n",
        "    ### Configure and Create Circuit Here\n",
        "    qc.h(0)\n",
        "    qc.cx(0, 1)\n",
        "    ###\n",
        "\n",
        "    # Uncomment this if you want to analyze the qubit states pre-collapse for the city plot\n",
        "    # (This instruction should be applied before any measurements if we do not want to save the collapsed post-measurement state)\n",
        "    ###\n",
        "    qc.save_statevector()\n",
        "    ###\n",
        "\n",
        "    return qc\n",
        "\n",
        "quantum_circuit = create_circuit(q_reg, c_reg)\n",
        "quantum_circuit.barrier()\n",
        "quantum_circuit.measure(q_reg, c_reg)\n",
        "quantum_circuit.draw(output='mpl')"
      ],
      "metadata": {
        "id": "8MHn_GBR_I4p"
      },
      "execution_count": null,
      "outputs": []
    },
    {
      "cell_type": "code",
      "source": [
        "circ, result = simulate(quantum_circuit)\n",
        "counts = result.get_counts(circ)\n",
        "\n",
        "# Plot the results via histogram\n",
        "plot_histogram(counts, title='Simulation counts')"
      ],
      "metadata": {
        "id": "9XqQhVccJq5O"
      },
      "execution_count": null,
      "outputs": []
    },
    {
      "cell_type": "code",
      "source": [
        "# Plot the results via city plot\n",
        "statevector = result.get_statevector(circ)\n",
        "plot_state_city(statevector, title='State')"
      ],
      "metadata": {
        "id": "uPFD8PcDlhYV"
      },
      "execution_count": null,
      "outputs": []
    }
  ]
}